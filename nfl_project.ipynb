{
 "cells": [
  {
   "cell_type": "markdown",
   "metadata": {},
   "source": [
    "# The Challenge:\n",
    "\n",
    "For the 2018 season, the NFL revised their kickoff rules in an effort to reduce the risk of injury during those plays. By examining injury reports, player position and velocity data, and game video, they were able to understand the game-play circumstances that may exacerbate the risk of injury to players.\n",
    "\n",
    "This comprehensive review showed that over the course of all games during the 2015-2017 seasons, the kickoff represented only six percent of plays but 12 percent of concussions. Players had approximately four times the risk of concussion on returned kickoffs compared to running or passing plays. The changes to the kickoff rule aim to address the components that posed the most risk, like the use of a two-man wedge.\n",
    "\n",
    "Therefore, my data analysis is aiming at what are the factors that contribute to the concussion happened during kickoffs, and possible suggestions on the football rules that may lower the risk of injury."
   ]
  },
  {
   "cell_type": "markdown",
   "metadata": {},
   "source": [
    "# Questions I'm interested in answering:\n",
    "\n",
    "1) What factors may cause punting?\n",
    "\n",
    "The specific rule for the end of second quarter, switching possession after the second quarter according to which team has the ball at the beginning of the game. \n",
    "\n",
    "Unable to make enough yardage after 4 tries and it's not enough to make the field goal.\n",
    "\n",
    "2) What are the sources that causes concussion?\n",
    "\n",
    "Helmet-to-body and Helmet-to-helmet\n",
    "\n",
    "3) What suggestions could be made that decrease the concussion during punt?"
   ]
  },
  {
   "cell_type": "code",
   "execution_count": 49,
   "metadata": {},
   "outputs": [],
   "source": [
    "import numpy as np\n",
    "import pandas as pd\n",
    "import matplotlib.pyplot as plt\n",
    "from IPython import display\n",
    "import seaborn as sns\n",
    "\n",
    "%matplotlib inline"
   ]
  },
  {
   "cell_type": "code",
   "execution_count": 50,
   "metadata": {},
   "outputs": [
    {
     "name": "stdout",
     "output_type": "stream",
     "text": [
      "/Users/lshi/Desktop/Term 2/Project1\r\n"
     ]
    }
   ],
   "source": [
    "# importing play information data, Player punt data, Video Review data that contains concussion\n",
    "! pwd"
   ]
  },
  {
   "cell_type": "code",
   "execution_count": 51,
   "metadata": {},
   "outputs": [
    {
     "data": {
      "text/html": [
       "<div>\n",
       "<style scoped>\n",
       "    .dataframe tbody tr th:only-of-type {\n",
       "        vertical-align: middle;\n",
       "    }\n",
       "\n",
       "    .dataframe tbody tr th {\n",
       "        vertical-align: top;\n",
       "    }\n",
       "\n",
       "    .dataframe thead th {\n",
       "        text-align: right;\n",
       "    }\n",
       "</style>\n",
       "<table border=\"1\" class=\"dataframe\">\n",
       "  <thead>\n",
       "    <tr style=\"text-align: right;\">\n",
       "      <th></th>\n",
       "      <th>Season_Year</th>\n",
       "      <th>Season_Type</th>\n",
       "      <th>GameKey</th>\n",
       "      <th>Game_Date</th>\n",
       "      <th>Week</th>\n",
       "      <th>PlayID</th>\n",
       "      <th>Game_Clock</th>\n",
       "      <th>YardLine</th>\n",
       "      <th>Quarter</th>\n",
       "      <th>Play_Type</th>\n",
       "      <th>Poss_Team</th>\n",
       "      <th>Home_Team_Visit_Team</th>\n",
       "      <th>Score_Home_Visiting</th>\n",
       "      <th>PlayDescription</th>\n",
       "    </tr>\n",
       "  </thead>\n",
       "  <tbody>\n",
       "    <tr>\n",
       "      <th>0</th>\n",
       "      <td>2016</td>\n",
       "      <td>Pre</td>\n",
       "      <td>2</td>\n",
       "      <td>08/13/2016</td>\n",
       "      <td>2</td>\n",
       "      <td>191</td>\n",
       "      <td>12:30</td>\n",
       "      <td>LA 47</td>\n",
       "      <td>1</td>\n",
       "      <td>Punt</td>\n",
       "      <td>LA</td>\n",
       "      <td>LA-DAL</td>\n",
       "      <td>0 - 7</td>\n",
       "      <td>(12:30) J.Hekker punts 52 yards to DAL 1, Cent...</td>\n",
       "    </tr>\n",
       "    <tr>\n",
       "      <th>1</th>\n",
       "      <td>2016</td>\n",
       "      <td>Pre</td>\n",
       "      <td>2</td>\n",
       "      <td>08/13/2016</td>\n",
       "      <td>2</td>\n",
       "      <td>1132</td>\n",
       "      <td>12:08</td>\n",
       "      <td>LA 29</td>\n",
       "      <td>2</td>\n",
       "      <td>Punt</td>\n",
       "      <td>LA</td>\n",
       "      <td>LA-DAL</td>\n",
       "      <td>7 - 21</td>\n",
       "      <td>(12:08) J.Hekker punts 51 yards to DAL 20, Cen...</td>\n",
       "    </tr>\n",
       "    <tr>\n",
       "      <th>2</th>\n",
       "      <td>2016</td>\n",
       "      <td>Pre</td>\n",
       "      <td>2</td>\n",
       "      <td>08/13/2016</td>\n",
       "      <td>2</td>\n",
       "      <td>1227</td>\n",
       "      <td>10:01</td>\n",
       "      <td>DAL 18</td>\n",
       "      <td>2</td>\n",
       "      <td>Punt</td>\n",
       "      <td>DAL</td>\n",
       "      <td>LA-DAL</td>\n",
       "      <td>7 - 21</td>\n",
       "      <td>(10:01) C.Jones punts 40 yards to LA 42, Cente...</td>\n",
       "    </tr>\n",
       "    <tr>\n",
       "      <th>3</th>\n",
       "      <td>2016</td>\n",
       "      <td>Pre</td>\n",
       "      <td>2</td>\n",
       "      <td>08/13/2016</td>\n",
       "      <td>2</td>\n",
       "      <td>1864</td>\n",
       "      <td>00:21</td>\n",
       "      <td>DAL 46</td>\n",
       "      <td>2</td>\n",
       "      <td>Punt</td>\n",
       "      <td>LA</td>\n",
       "      <td>LA-DAL</td>\n",
       "      <td>7 - 24</td>\n",
       "      <td>(:21) J.Hekker punts 31 yards to DAL 15, Cente...</td>\n",
       "    </tr>\n",
       "    <tr>\n",
       "      <th>4</th>\n",
       "      <td>2016</td>\n",
       "      <td>Pre</td>\n",
       "      <td>2</td>\n",
       "      <td>08/13/2016</td>\n",
       "      <td>2</td>\n",
       "      <td>2247</td>\n",
       "      <td>10:26</td>\n",
       "      <td>DAL 15</td>\n",
       "      <td>3</td>\n",
       "      <td>Punt</td>\n",
       "      <td>DAL</td>\n",
       "      <td>LA-DAL</td>\n",
       "      <td>14 - 24</td>\n",
       "      <td>(10:26) M.Wile punts 40 yards to LA 45, Center...</td>\n",
       "    </tr>\n",
       "  </tbody>\n",
       "</table>\n",
       "</div>"
      ],
      "text/plain": [
       "   Season_Year Season_Type  GameKey   Game_Date  Week  PlayID Game_Clock  \\\n",
       "0         2016         Pre        2  08/13/2016     2     191      12:30   \n",
       "1         2016         Pre        2  08/13/2016     2    1132      12:08   \n",
       "2         2016         Pre        2  08/13/2016     2    1227      10:01   \n",
       "3         2016         Pre        2  08/13/2016     2    1864      00:21   \n",
       "4         2016         Pre        2  08/13/2016     2    2247      10:26   \n",
       "\n",
       "  YardLine  Quarter Play_Type Poss_Team Home_Team_Visit_Team  \\\n",
       "0    LA 47        1      Punt        LA               LA-DAL   \n",
       "1    LA 29        2      Punt        LA               LA-DAL   \n",
       "2   DAL 18        2      Punt       DAL               LA-DAL   \n",
       "3   DAL 46        2      Punt        LA               LA-DAL   \n",
       "4   DAL 15        3      Punt       DAL               LA-DAL   \n",
       "\n",
       "  Score_Home_Visiting                                    PlayDescription  \n",
       "0               0 - 7  (12:30) J.Hekker punts 52 yards to DAL 1, Cent...  \n",
       "1              7 - 21  (12:08) J.Hekker punts 51 yards to DAL 20, Cen...  \n",
       "2              7 - 21  (10:01) C.Jones punts 40 yards to LA 42, Cente...  \n",
       "3              7 - 24  (:21) J.Hekker punts 31 yards to DAL 15, Cente...  \n",
       "4             14 - 24  (10:26) M.Wile punts 40 yards to LA 45, Center...  "
      ]
     },
     "execution_count": 51,
     "metadata": {},
     "output_type": "execute_result"
    }
   ],
   "source": [
    "play_info = pd.read_csv('/Users/lshi/Desktop/Term 2/Project1/nfl/play_information.csv')\n",
    "play_info.shape\n",
    "play_info.head()"
   ]
  },
  {
   "cell_type": "code",
   "execution_count": 59,
   "metadata": {},
   "outputs": [
    {
     "data": {
      "text/plain": [
       "Season_Year             0\n",
       "Season_Type             0\n",
       "GameKey                 0\n",
       "Game_Date               0\n",
       "Week                    0\n",
       "PlayID                  0\n",
       "Game_Clock              0\n",
       "YardLine                0\n",
       "Quarter                 0\n",
       "Play_Type               0\n",
       "Poss_Team               0\n",
       "Home_Team_Visit_Team    0\n",
       "Score_Home_Visiting     0\n",
       "PlayDescription         0\n",
       "dtype: int64"
      ]
     },
     "execution_count": 59,
     "metadata": {},
     "output_type": "execute_result"
    }
   ],
   "source": [
    "# check if there's NaN\n",
    "play_info.isnull().sum()\n",
    "\n",
    "# there's no NaN"
   ]
  },
  {
   "cell_type": "code",
   "execution_count": 52,
   "metadata": {},
   "outputs": [
    {
     "data": {
      "text/plain": [
       "2    1815\n",
       "1    1628\n",
       "4    1622\n",
       "3    1588\n",
       "5      28\n",
       "Name: Quarter, dtype: int64"
      ]
     },
     "execution_count": 52,
     "metadata": {},
     "output_type": "execute_result"
    }
   ],
   "source": [
    "play_info['Quarter'].value_counts()"
   ]
  },
  {
   "cell_type": "markdown",
   "metadata": {},
   "source": [
    "Since the Play Information data set only contains Punt data, I want to take a look if there's difference in the number of punt given the quarters."
   ]
  },
  {
   "cell_type": "code",
   "execution_count": 53,
   "metadata": {},
   "outputs": [
    {
     "data": {
      "image/png": "[encoded data removed]",
      "text/plain": [
       "<matplotlib.figure.Figure at 0x1a245c7470>"
      ]
     },
     "metadata": {},
     "output_type": "display_data"
    }
   ],
   "source": [
    "plt.hist(play_info['Quarter']);"
   ]
  },
  {
   "cell_type": "markdown",
   "metadata": {},
   "source": [
    "From the above histogram, the number of punt happening seems to be relatively homogeneous across quarters, with a slightly higher number during the second quarter and the first quarter.\n",
    "\n",
    "I believe that makes sense because when the second quarter ends, the team who doesn't have the possession of the ball at the beginning of the game will gain possession, regardless which team has the ball at the end of the second quarter. Such a design would make the teams less motivated to keep the posession of the ball, hence increasing the likelihood of punting the ball by the end of the second quarter."
   ]
  },
  {
   "cell_type": "code",
   "execution_count": 54,
   "metadata": {},
   "outputs": [
    {
     "data": {
      "text/plain": [
       "NYG    254\n",
       "JAX    244\n",
       "NYJ    238\n",
       "LA     233\n",
       "MIA    231\n",
       "HST    229\n",
       "BUF    224\n",
       "BLT    224\n",
       "CLV    222\n",
       "SF     219\n",
       "DEN    218\n",
       "ARZ    215\n",
       "OAK    214\n",
       "SEA    212\n",
       "CHI    211\n",
       "CIN    211\n",
       "TEN    210\n",
       "MIN    207\n",
       "KC     205\n",
       "PIT    204\n",
       "NE     203\n",
       "IND    202\n",
       "GB     201\n",
       "CAR    194\n",
       "PHI    193\n",
       "WAS    190\n",
       "DET    189\n",
       "TB     182\n",
       "NO     180\n",
       "DAL    173\n",
       "ATL    168\n",
       "LAC    100\n",
       "SD      81\n",
       "Name: Poss_Team, dtype: int64"
      ]
     },
     "execution_count": 54,
     "metadata": {},
     "output_type": "execute_result"
    }
   ],
   "source": [
    "play_info['Poss_Team'].value_counts()"
   ]
  },
  {
   "cell_type": "code",
   "execution_count": 55,
   "metadata": {},
   "outputs": [
    {
     "data": {
      "image/png": "[encoded data removed]",
      "text/plain": [
       "<matplotlib.figure.Figure at 0x1a23ec5ac8>"
      ]
     },
     "metadata": {},
     "output_type": "display_data"
    }
   ],
   "source": [
    "plt.figure(figsize=(20,10))\n",
    "sns.countplot(data = play_info, x = 'Poss_Team', order = play_info['Poss_Team'].value_counts().index);"
   ]
  },
  {
   "cell_type": "markdown",
   "metadata": {},
   "source": [
    "From the plot above, NYG, JAX and NYJ are more likely to punt when they have the possession of the balls, versus ATL, LAC and SD.\n",
    "\n",
    "Teams that have higher number of punts are more likely to perform worse than teams with lower number of punts, because punting happens when the possession team doesn't reach enough yardage within 4 tries. The argument could be backed up by New England Patriots (a team that has won 5 superbowls since 2001) being at the lower half of the histgram. \n"
   ]
  },
  {
   "cell_type": "code",
   "execution_count": 56,
   "metadata": {},
   "outputs": [
    {
     "data": {
      "text/html": [
       "<div>\n",
       "<style scoped>\n",
       "    .dataframe tbody tr th:only-of-type {\n",
       "        vertical-align: middle;\n",
       "    }\n",
       "\n",
       "    .dataframe tbody tr th {\n",
       "        vertical-align: top;\n",
       "    }\n",
       "\n",
       "    .dataframe thead th {\n",
       "        text-align: right;\n",
       "    }\n",
       "</style>\n",
       "<table border=\"1\" class=\"dataframe\">\n",
       "  <thead>\n",
       "    <tr style=\"text-align: right;\">\n",
       "      <th></th>\n",
       "      <th>GSISID</th>\n",
       "      <th>Number</th>\n",
       "      <th>Position</th>\n",
       "    </tr>\n",
       "  </thead>\n",
       "  <tbody>\n",
       "    <tr>\n",
       "      <th>0</th>\n",
       "      <td>32069</td>\n",
       "      <td>36</td>\n",
       "      <td>SS</td>\n",
       "    </tr>\n",
       "    <tr>\n",
       "      <th>1</th>\n",
       "      <td>30095</td>\n",
       "      <td>11</td>\n",
       "      <td>WR</td>\n",
       "    </tr>\n",
       "    <tr>\n",
       "      <th>2</th>\n",
       "      <td>31586</td>\n",
       "      <td>22</td>\n",
       "      <td>FS</td>\n",
       "    </tr>\n",
       "    <tr>\n",
       "      <th>3</th>\n",
       "      <td>29520</td>\n",
       "      <td>35</td>\n",
       "      <td>SS</td>\n",
       "    </tr>\n",
       "    <tr>\n",
       "      <th>4</th>\n",
       "      <td>30517</td>\n",
       "      <td>51</td>\n",
       "      <td>OLB</td>\n",
       "    </tr>\n",
       "  </tbody>\n",
       "</table>\n",
       "</div>"
      ],
      "text/plain": [
       "   GSISID Number Position\n",
       "0   32069     36       SS\n",
       "1   30095     11       WR\n",
       "2   31586     22       FS\n",
       "3   29520     35       SS\n",
       "4   30517     51      OLB"
      ]
     },
     "execution_count": 56,
     "metadata": {},
     "output_type": "execute_result"
    }
   ],
   "source": [
    "player_punt = pd.read_csv('/Users/lshi/Desktop/Term 2/Project1/nfl/player_punt_data.csv')\n",
    "player_punt.shape\n",
    "player_punt.head()"
   ]
  },
  {
   "cell_type": "code",
   "execution_count": 60,
   "metadata": {},
   "outputs": [
    {
     "data": {
      "text/plain": [
       "GSISID      0\n",
       "Number      0\n",
       "Position    0\n",
       "dtype: int64"
      ]
     },
     "execution_count": 60,
     "metadata": {},
     "output_type": "execute_result"
    }
   ],
   "source": [
    "# check if there's NaN\n",
    "player_punt.isnull().sum()\n",
    "# there's no NaN"
   ]
  },
  {
   "cell_type": "code",
   "execution_count": 57,
   "metadata": {},
   "outputs": [
    {
     "data": {
      "image/png": "[encoded data removed]",
      "text/plain": [
       "<matplotlib.figure.Figure at 0x1a2410a588>"
      ]
     },
     "metadata": {},
     "output_type": "display_data"
    }
   ],
   "source": [
    "plt.figure(figsize=(20,10))\n",
    "sns.countplot(data = player_punt, x = 'Position', order = player_punt['Position'].value_counts().index);"
   ]
  },
  {
   "cell_type": "code",
   "execution_count": 69,
   "metadata": {},
   "outputs": [
    {
     "data": {
      "text/plain": [
       "(37, 10)"
      ]
     },
     "execution_count": 69,
     "metadata": {},
     "output_type": "execute_result"
    }
   ],
   "source": [
    "video_review = pd.read_csv('/Users/lshi/Desktop/Term 2/Project1/nfl/video_review.csv')\n",
    "video_review.shape"
   ]
  },
  {
   "cell_type": "code",
   "execution_count": 70,
   "metadata": {},
   "outputs": [
    {
     "data": {
      "text/html": [
       "<div>\n",
       "<style scoped>\n",
       "    .dataframe tbody tr th:only-of-type {\n",
       "        vertical-align: middle;\n",
       "    }\n",
       "\n",
       "    .dataframe tbody tr th {\n",
       "        vertical-align: top;\n",
       "    }\n",
       "\n",
       "    .dataframe thead th {\n",
       "        text-align: right;\n",
       "    }\n",
       "</style>\n",
       "<table border=\"1\" class=\"dataframe\">\n",
       "  <thead>\n",
       "    <tr style=\"text-align: right;\">\n",
       "      <th></th>\n",
       "      <th>Season_Year</th>\n",
       "      <th>GameKey</th>\n",
       "      <th>PlayID</th>\n",
       "      <th>GSISID</th>\n",
       "      <th>Player_Activity_Derived</th>\n",
       "      <th>Turnover_Related</th>\n",
       "      <th>Primary_Impact_Type</th>\n",
       "      <th>Primary_Partner_GSISID</th>\n",
       "      <th>Primary_Partner_Activity_Derived</th>\n",
       "      <th>Friendly_Fire</th>\n",
       "    </tr>\n",
       "  </thead>\n",
       "  <tbody>\n",
       "    <tr>\n",
       "      <th>0</th>\n",
       "      <td>2016</td>\n",
       "      <td>5</td>\n",
       "      <td>3129</td>\n",
       "      <td>31057</td>\n",
       "      <td>Tackling</td>\n",
       "      <td>No</td>\n",
       "      <td>Helmet-to-body</td>\n",
       "      <td>32482</td>\n",
       "      <td>Tackled</td>\n",
       "      <td>No</td>\n",
       "    </tr>\n",
       "    <tr>\n",
       "      <th>1</th>\n",
       "      <td>2016</td>\n",
       "      <td>21</td>\n",
       "      <td>2587</td>\n",
       "      <td>29343</td>\n",
       "      <td>Blocked</td>\n",
       "      <td>No</td>\n",
       "      <td>Helmet-to-helmet</td>\n",
       "      <td>31059</td>\n",
       "      <td>Blocking</td>\n",
       "      <td>No</td>\n",
       "    </tr>\n",
       "    <tr>\n",
       "      <th>2</th>\n",
       "      <td>2016</td>\n",
       "      <td>29</td>\n",
       "      <td>538</td>\n",
       "      <td>31023</td>\n",
       "      <td>Tackling</td>\n",
       "      <td>No</td>\n",
       "      <td>Helmet-to-body</td>\n",
       "      <td>31941</td>\n",
       "      <td>Tackled</td>\n",
       "      <td>No</td>\n",
       "    </tr>\n",
       "    <tr>\n",
       "      <th>3</th>\n",
       "      <td>2016</td>\n",
       "      <td>45</td>\n",
       "      <td>1212</td>\n",
       "      <td>33121</td>\n",
       "      <td>Tackling</td>\n",
       "      <td>No</td>\n",
       "      <td>Helmet-to-body</td>\n",
       "      <td>28249</td>\n",
       "      <td>Tackled</td>\n",
       "      <td>No</td>\n",
       "    </tr>\n",
       "    <tr>\n",
       "      <th>4</th>\n",
       "      <td>2016</td>\n",
       "      <td>54</td>\n",
       "      <td>1045</td>\n",
       "      <td>32444</td>\n",
       "      <td>Blocked</td>\n",
       "      <td>No</td>\n",
       "      <td>Helmet-to-body</td>\n",
       "      <td>31756</td>\n",
       "      <td>Blocked</td>\n",
       "      <td>Yes</td>\n",
       "    </tr>\n",
       "  </tbody>\n",
       "</table>\n",
       "</div>"
      ],
      "text/plain": [
       "   Season_Year  GameKey  PlayID  GSISID Player_Activity_Derived  \\\n",
       "0         2016        5    3129   31057                Tackling   \n",
       "1         2016       21    2587   29343                 Blocked   \n",
       "2         2016       29     538   31023                Tackling   \n",
       "3         2016       45    1212   33121                Tackling   \n",
       "4         2016       54    1045   32444                 Blocked   \n",
       "\n",
       "  Turnover_Related Primary_Impact_Type Primary_Partner_GSISID  \\\n",
       "0               No      Helmet-to-body                  32482   \n",
       "1               No    Helmet-to-helmet                  31059   \n",
       "2               No      Helmet-to-body                  31941   \n",
       "3               No      Helmet-to-body                  28249   \n",
       "4               No      Helmet-to-body                  31756   \n",
       "\n",
       "  Primary_Partner_Activity_Derived Friendly_Fire  \n",
       "0                          Tackled            No  \n",
       "1                         Blocking            No  \n",
       "2                          Tackled            No  \n",
       "3                          Tackled            No  \n",
       "4                          Blocked           Yes  "
      ]
     },
     "execution_count": 70,
     "metadata": {},
     "output_type": "execute_result"
    }
   ],
   "source": [
    "video_review.head()"
   ]
  },
  {
   "cell_type": "code",
   "execution_count": 71,
   "metadata": {},
   "outputs": [
    {
     "data": {
      "text/plain": [
       "Season_Year                         0\n",
       "GameKey                             0\n",
       "PlayID                              0\n",
       "GSISID                              0\n",
       "Player_Activity_Derived             0\n",
       "Turnover_Related                    0\n",
       "Primary_Impact_Type                 0\n",
       "Primary_Partner_GSISID              3\n",
       "Primary_Partner_Activity_Derived    2\n",
       "Friendly_Fire                       2\n",
       "dtype: int64"
      ]
     },
     "execution_count": 71,
     "metadata": {},
     "output_type": "execute_result"
    }
   ],
   "source": [
    "video_review.isnull().sum()"
   ]
  },
  {
   "cell_type": "code",
   "execution_count": 72,
   "metadata": {},
   "outputs": [],
   "source": [
    "# drop the rows where there's NaN\n",
    "video_review = video_review.dropna(subset = ['Primary_Partner_GSISID', 'Primary_Partner_Activity_Derived', 'Friendly_Fire'], axis = 0)"
   ]
  },
  {
   "cell_type": "code",
   "execution_count": 73,
   "metadata": {},
   "outputs": [
    {
     "data": {
      "text/plain": [
       "Season_Year                         0\n",
       "GameKey                             0\n",
       "PlayID                              0\n",
       "GSISID                              0\n",
       "Player_Activity_Derived             0\n",
       "Turnover_Related                    0\n",
       "Primary_Impact_Type                 0\n",
       "Primary_Partner_GSISID              0\n",
       "Primary_Partner_Activity_Derived    0\n",
       "Friendly_Fire                       0\n",
       "dtype: int64"
      ]
     },
     "execution_count": 73,
     "metadata": {},
     "output_type": "execute_result"
    }
   ],
   "source": [
    "video_review.isnull().sum()"
   ]
  },
  {
   "cell_type": "code",
   "execution_count": 74,
   "metadata": {},
   "outputs": [
    {
     "data": {
      "text/plain": [
       "(34, 10)"
      ]
     },
     "execution_count": 74,
     "metadata": {},
     "output_type": "execute_result"
    }
   ],
   "source": [
    "video_review.shape"
   ]
  },
  {
   "cell_type": "code",
   "execution_count": 75,
   "metadata": {},
   "outputs": [
    {
     "data": {
      "text/plain": [
       "No    34\n",
       "Name: Turnover_Related, dtype: int64"
      ]
     },
     "execution_count": 75,
     "metadata": {},
     "output_type": "execute_result"
    }
   ],
   "source": [
    "# Turnover had no relation to concussion\n",
    "video_review['Turnover_Related'].value_counts()"
   ]
  },
  {
   "cell_type": "code",
   "execution_count": 76,
   "metadata": {},
   "outputs": [
    {
     "data": {
      "image/png": "[encoded data removed]",
      "text/plain": [
       "<matplotlib.figure.Figure at 0x1a242f99b0>"
      ]
     },
     "metadata": {},
     "output_type": "display_data"
    }
   ],
   "source": [
    "# Player activity during primary injury causing event\n",
    "plt.figure(figsize=(20,10))\n",
    "plt.hist(video_review['Player_Activity_Derived']);"
   ]
  },
  {
   "cell_type": "markdown",
   "metadata": {},
   "source": [
    "From the above, Tackling is the one that causes the most concussion, followed by Blocked, Blocking and Tackled.\n",
    "Hence, rules that focusing on the safety of tackling should be reenforced by NFL."
   ]
  },
  {
   "cell_type": "code",
   "execution_count": 79,
   "metadata": {},
   "outputs": [
    {
     "data": {
      "image/png": "[encoded data removed]",
      "text/plain": [
       "<matplotlib.figure.Figure at 0x1a24165cf8>"
      ]
     },
     "metadata": {},
     "output_type": "display_data"
    }
   ],
   "source": [
    "plt.figure(figsize=(20,10))\n",
    "sns.countplot(data = video_review, x = 'Primary_Impact_Type', order = video_review['Primary_Impact_Type'].value_counts().index);"
   ]
  },
  {
   "cell_type": "markdown",
   "metadata": {},
   "source": [
    "What is interesting is that the top two reasons that cause concussion is the Helmet-to-body and Helmet-to-helmet, not the Helmet-to-ground. \n",
    "\n",
    "My reasoning is that it is easier to practice not to get hurt when the player hits the ground, than practicing such a play with another player because it is too risky during practice. Hence, players are less likely to protect themselves during the game against another player, which results in such a high occurance of concussion."
   ]
  },
  {
   "cell_type": "code",
   "execution_count": 81,
   "metadata": {},
   "outputs": [
    {
     "data": {
      "image/png": "[encoded data removed]",
      "text/plain": [
       "<matplotlib.figure.Figure at 0x1a2407b6a0>"
      ]
     },
     "metadata": {},
     "output_type": "display_data"
    }
   ],
   "source": [
    "plt.figure(figsize=(20,10))\n",
    "sns.countplot(data = video_review, x = 'Primary_Partner_Activity_Derived', order = video_review['Primary_Partner_Activity_Derived'].value_counts().index);"
   ]
  },
  {
   "cell_type": "code",
   "execution_count": 77,
   "metadata": {},
   "outputs": [
    {
     "data": {
      "image/png": "[encoded data removed]",
      "text/plain": [
       "<matplotlib.figure.Figure at 0x1a24244630>"
      ]
     },
     "metadata": {},
     "output_type": "display_data"
    }
   ],
   "source": [
    "plt.figure(figsize=(20,10))\n",
    "plt.hist(video_review['Friendly_Fire']);"
   ]
  },
  {
   "cell_type": "markdown",
   "metadata": {},
   "source": [
    "The above histogram is about whether or not the players who hit the helmets together that caused concussion are on the same team. And it is clear that most of the players are not on the same team, which makes sense, because players are more aggressive towards the other team as they are trying to win.\n",
    "\n",
    "Hence, a more strict rule on aggressive attack should be enforced to prevent the injury."
   ]
  }
 ],
 "metadata": {
  "kernelspec": {
   "display_name": "Python 3",
   "language": "python",
   "name": "python3"
  },
  "language_info": {
   "codemirror_mode": {
    "name": "ipython",
    "version": 3
   },
   "file_extension": ".py",
   "mimetype": "text/x-python",
   "name": "python",
   "nbconvert_exporter": "python",
   "pygments_lexer": "ipython3",
   "version": "3.6.4"
  }
 },
 "nbformat": 4,
 "nbformat_minor": 2
}
